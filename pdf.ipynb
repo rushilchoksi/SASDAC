{
  "nbformat": 4,
  "nbformat_minor": 0,
  "metadata": {
    "colab": {
      "provenance": []
    },
    "kernelspec": {
      "name": "python3",
      "display_name": "Python 3"
    },
    "language_info": {
      "name": "python"
    }
  },
  "cells": [
    {
      "cell_type": "code",
      "execution_count": 3,
      "metadata": {
        "id": "OKs7meeBMvRn",
        "outputId": "28184318-f247-411f-905b-f556d3fd5192",
        "colab": {
          "base_uri": "https://localhost:8080/"
        }
      },
      "outputs": [
        {
          "output_type": "stream",
          "name": "stdout",
          "text": [
            "Looking in indexes: https://pypi.org/simple, https://us-python.pkg.dev/colab-wheels/public/simple/\n",
            "Requirement already satisfied: pyPDF2 in /usr/local/lib/python3.8/dist-packages (3.0.1)\n",
            "Requirement already satisfied: typing_extensions>=3.10.0.0 in /usr/local/lib/python3.8/dist-packages (from pyPDF2) (4.5.0)\n"
          ]
        }
      ],
      "source": [
        "pip install pyPDF2"
      ]
    },
    {
      "cell_type": "code",
      "source": [
        "from PyPDF2 import PdfReader"
      ],
      "metadata": {
        "id": "DW3G5An4NKua"
      },
      "execution_count": 6,
      "outputs": []
    },
    {
      "cell_type": "code",
      "source": [
        "reader = PdfReader('/content/sample_data/Resume.pdf')"
      ],
      "metadata": {
        "id": "j1aDDykeNv1p"
      },
      "execution_count": 7,
      "outputs": []
    },
    {
      "cell_type": "code",
      "source": [
        "page = reader.pages[0]"
      ],
      "metadata": {
        "id": "d6aq0h7_NzVS"
      },
      "execution_count": 8,
      "outputs": []
    },
    {
      "cell_type": "code",
      "source": [
        "text = page.extract_text()\n",
        "print(text)"
      ],
      "metadata": {
        "id": "s66_HQIqN2ki",
        "colab": {
          "base_uri": "https://localhost:8080/"
        },
        "outputId": "051a3319-2fb6-4c21-9201-5cc3fc2b1919"
      },
      "execution_count": 9,
      "outputs": [
        {
          "output_type": "stream",
          "name": "stdout",
          "text": [
            "Jeet Maniar \n",
            "Data Analyst \n",
            "Industrial Experience In Business Development , Expansion, Strategist, Technical head, Partner with over 2+ years of experience. \n",
            "jeet.k.maniar1002@gmail.com \n",
            "+918141341770 \n",
            "EDUCATION \n",
            "Study Program \n",
            "Ganpat University (ICT) \n",
            "06/2019 - Present\n",
            ", \n",
            " \n",
            "7.42 \n",
            "CSE - Specialization in Big\n",
            "Data Analytics \n",
            "WORK EXPERIENCE \n",
            "Partner \n",
            "Hashtag Media \n",
            "06/2022 - Present\n",
            ", \n",
            " \n",
            "An IT and Digital Marketing Firm which also provides Cinematic\n",
            "Photoshoots and Videoshoots \n",
            "Suggesting and Executing strategies for expansion \n",
            "Resolved problems, improved operations and provided\n",
            "exceptional service (Operations Management). \n",
            "Contact \n",
            ":\n",
            "-\n",
            "Pranay Pandya \n",
            "8849364779 \n",
            "Ex-Co founder \n",
            "Letsbiz \n",
            "08/2020 - 02/2022\n",
            ", \n",
            " \n",
            "A startup ﬁrm Launching it's own app And has many child ﬁrms (i.e IT,\n",
            "Digital Marketing, Photoshoot, Oﬄine Marketing etc ) \n",
            "Participated in continuous improvement by generating\n",
            "suggestions, engaging in problem-solving activities to\n",
            "support teamwork. \n",
            "Idea pitching to other ﬁrms and companies for Expansion\n",
            "and Training other Employees and Interns. \n",
            "Website Link :-\n",
            " \n",
            " \n",
            "Contact \n",
            ":\n",
            "-\n",
            "Harsh Sevani \n",
            "8141268597 \n",
            "Intern \n",
            "Table On Time \n",
            "06/2021 - 07/2021\n",
            ", \n",
            " \n",
            "Ad Manager and Strategist \n",
            "Executed diﬀerent strategies and gave road-Map by\n",
            "implementing cost-saving initiatives that addressed long-\n",
            "standing problems \n",
            "Contact \n",
            ":\n",
            "-\n",
            "Rahul Shrimali \n",
            "9427803101 \n",
            "SKILLS \n",
            "Data Analysis \n",
            "Data Visualization \n",
            "Machine Learning \n",
            "Problem Solving \n",
            "Critical Thinking \n",
            "Nosql and Mysql \n",
            "Statistical Programming \n",
            "Probability and Statistics \n",
            "PERSONAL PROJECTS \n",
            "Energy Share \n",
            "Frontend and documentation \n",
            "Prediction Of Customer Churn for a Travel Firm \n",
            "IBM spss Modeler \n",
            "Performed Data Analytics \n",
            "Using Pig and Hive \n",
            "NASS - Network Assistant \n",
            "Research , Database Creation \n",
            "Watson Discovery \n",
            "CERTIFICATES \n",
            "Big Data 101 \n",
            "Hadoop101 \n",
            "Python \n",
            "RDBMS \n",
            "JAVA \n",
            "Php and Mysql \n",
            "Courses \n",
            "Achievements/Tasks \n",
            "Achievements/Tasks \n",
            "Achievements/Tasks \n"
          ]
        }
      ]
    }
  ]
}