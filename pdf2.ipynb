{
  "nbformat": 4,
  "nbformat_minor": 0,
  "metadata": {
    "colab": {
      "provenance": []
    },
    "kernelspec": {
      "name": "python3",
      "display_name": "Python 3"
    },
    "language_info": {
      "name": "python"
    }
  },
  "cells": [
    {
      "cell_type": "code",
      "execution_count": 2,
      "metadata": {
        "colab": {
          "base_uri": "https://localhost:8080/"
        },
        "id": "fhApZec-QmFf",
        "outputId": "9893d210-28d0-4b5e-82fe-bea62d52f704"
      },
      "outputs": [
        {
          "output_type": "stream",
          "name": "stdout",
          "text": [
            "Looking in indexes: https://pypi.org/simple, https://us-python.pkg.dev/colab-wheels/public/simple/\n",
            "Collecting pyPDF2\n",
            "  Downloading pypdf2-3.0.1-py3-none-any.whl (232 kB)\n",
            "\u001b[2K     \u001b[90m━━━━━━━━━━━━━━━━━━━━━━━━━━━━━━━━━━━━━━\u001b[0m \u001b[32m232.6/232.6 KB\u001b[0m \u001b[31m16.8 MB/s\u001b[0m eta \u001b[36m0:00:00\u001b[0m\n",
            "\u001b[?25hRequirement already satisfied: typing_extensions>=3.10.0.0 in /usr/local/lib/python3.8/dist-packages (from pyPDF2) (4.5.0)\n",
            "Installing collected packages: pyPDF2\n",
            "Successfully installed pyPDF2-3.0.1\n"
          ]
        }
      ],
      "source": [
        "pip install pyPDF2"
      ]
    },
    {
      "cell_type": "code",
      "source": [
        "from PyPDF2 import PdfReader"
      ],
      "metadata": {
        "id": "0WqCWYYYQqPB"
      },
      "execution_count": 3,
      "outputs": []
    },
    {
      "cell_type": "code",
      "source": [
        "!pip install textract"
      ],
      "metadata": {
        "colab": {
          "base_uri": "https://localhost:8080/"
        },
        "id": "UzXWmV8oQt5Q",
        "outputId": "72089ae1-2c40-43c3-ea47-935d5a33e197"
      },
      "execution_count": 4,
      "outputs": [
        {
          "output_type": "stream",
          "name": "stdout",
          "text": [
            "Looking in indexes: https://pypi.org/simple, https://us-python.pkg.dev/colab-wheels/public/simple/\n",
            "Requirement already satisfied: textract in /usr/local/lib/python3.8/dist-packages (1.6.5)\n",
            "Requirement already satisfied: pdfminer.six==20191110 in /usr/local/lib/python3.8/dist-packages (from textract) (20191110)\n",
            "Requirement already satisfied: python-pptx~=0.6.18 in /usr/local/lib/python3.8/dist-packages (from textract) (0.6.21)\n",
            "Requirement already satisfied: six~=1.12.0 in /usr/local/lib/python3.8/dist-packages (from textract) (1.12.0)\n",
            "Requirement already satisfied: beautifulsoup4~=4.8.0 in /usr/local/lib/python3.8/dist-packages (from textract) (4.8.2)\n",
            "Requirement already satisfied: argcomplete~=1.10.0 in /usr/local/lib/python3.8/dist-packages (from textract) (1.10.3)\n",
            "Requirement already satisfied: SpeechRecognition~=3.8.1 in /usr/local/lib/python3.8/dist-packages (from textract) (3.8.1)\n",
            "Requirement already satisfied: chardet==3.* in /usr/local/lib/python3.8/dist-packages (from textract) (3.0.4)\n",
            "Requirement already satisfied: extract-msg<=0.29.* in /usr/local/lib/python3.8/dist-packages (from textract) (0.28.7)\n",
            "Requirement already satisfied: xlrd~=1.2.0 in /usr/local/lib/python3.8/dist-packages (from textract) (1.2.0)\n",
            "Requirement already satisfied: docx2txt~=0.8 in /usr/local/lib/python3.8/dist-packages (from textract) (0.8)\n",
            "Requirement already satisfied: sortedcontainers in /usr/local/lib/python3.8/dist-packages (from pdfminer.six==20191110->textract) (2.4.0)\n",
            "Requirement already satisfied: pycryptodome in /usr/local/lib/python3.8/dist-packages (from pdfminer.six==20191110->textract) (3.17)\n",
            "Requirement already satisfied: soupsieve>=1.2 in /usr/local/lib/python3.8/dist-packages (from beautifulsoup4~=4.8.0->textract) (2.4)\n",
            "Requirement already satisfied: olefile>=0.46 in /usr/local/lib/python3.8/dist-packages (from extract-msg<=0.29.*->textract) (0.46)\n",
            "Requirement already satisfied: imapclient==2.1.0 in /usr/local/lib/python3.8/dist-packages (from extract-msg<=0.29.*->textract) (2.1.0)\n",
            "Requirement already satisfied: ebcdic>=1.1.1 in /usr/local/lib/python3.8/dist-packages (from extract-msg<=0.29.*->textract) (1.1.1)\n",
            "Requirement already satisfied: compressed-rtf>=1.0.6 in /usr/local/lib/python3.8/dist-packages (from extract-msg<=0.29.*->textract) (1.0.6)\n",
            "Requirement already satisfied: tzlocal>=2.1 in /usr/local/lib/python3.8/dist-packages (from extract-msg<=0.29.*->textract) (4.2)\n",
            "Requirement already satisfied: Pillow>=3.3.2 in /usr/local/lib/python3.8/dist-packages (from python-pptx~=0.6.18->textract) (7.1.2)\n",
            "Requirement already satisfied: lxml>=3.1.0 in /usr/local/lib/python3.8/dist-packages (from python-pptx~=0.6.18->textract) (4.9.2)\n",
            "Requirement already satisfied: XlsxWriter>=0.5.7 in /usr/local/lib/python3.8/dist-packages (from python-pptx~=0.6.18->textract) (3.0.8)\n",
            "Requirement already satisfied: pytz-deprecation-shim in /usr/local/lib/python3.8/dist-packages (from tzlocal>=2.1->extract-msg<=0.29.*->textract) (0.1.0.post0)\n",
            "Requirement already satisfied: backports.zoneinfo in /usr/local/lib/python3.8/dist-packages (from tzlocal>=2.1->extract-msg<=0.29.*->textract) (0.2.1)\n",
            "Requirement already satisfied: tzdata in /usr/local/lib/python3.8/dist-packages (from pytz-deprecation-shim->tzlocal>=2.1->extract-msg<=0.29.*->textract) (2022.7)\n"
          ]
        }
      ]
    },
    {
      "cell_type": "code",
      "source": [
        "!pip install regex"
      ],
      "metadata": {
        "colab": {
          "base_uri": "https://localhost:8080/"
        },
        "id": "KvUU9PQpQy0A",
        "outputId": "d5da731a-0b8c-46bf-a739-8f5233bd2580"
      },
      "execution_count": 6,
      "outputs": [
        {
          "output_type": "stream",
          "name": "stdout",
          "text": [
            "Looking in indexes: https://pypi.org/simple, https://us-python.pkg.dev/colab-wheels/public/simple/\n",
            "Requirement already satisfied: regex in /usr/local/lib/python3.8/dist-packages (2022.6.2)\n"
          ]
        }
      ]
    },
    {
      "cell_type": "code",
      "source": [
        "import pandas as pd\n",
        "import numpy as np\n",
        "import PyPDF2\n",
        "import textract\n",
        "import re"
      ],
      "metadata": {
        "id": "O04qhIAtQ3c7"
      },
      "execution_count": 7,
      "outputs": []
    },
    {
      "cell_type": "code",
      "source": [
        "filename =\"/content/sample_data/Resume.pdf\" \n",
        "\n",
        "pdfFileObj = open(filename,'rb')               #open allows you to read the file\n",
        "pdfReader = PyPDF2.PdfReader(pdfFileObj)   #The pdfReader variable is a readable object that will be parsed\n",
        "num_pages = len(pdfReader.pages)                #discerning the number of pages will allow us to parse through all the pages\n",
        "\n",
        "\n",
        "count = 0\n",
        "text = \"\"\n",
        "                                                            \n",
        "while count < num_pages:                       #The while loop will read each page\n",
        "    pageObj = pdfReader.pages[count]\n",
        "    count +=1\n",
        "    text += pageObj.extract_text()\n",
        "    \n",
        "#Below if statement exists to check if the above library returned #words. It's done because PyPDF2 cannot read scanned files.\n",
        "\n",
        "if text != \"\":\n",
        "    text = text\n",
        "    \n",
        "#If the above returns as False, we run the OCR library textract to #convert scanned/image based PDF files into text\n",
        "\n",
        "else:\n",
        "    text = textract.process('http://bit.ly/epo_keyword_extraction_document', method='tesseract', language='eng')\n",
        "\n",
        "    # Now we have a text variable which contains all the text derived from our PDF file."
      ],
      "metadata": {
        "id": "Tciz73sxSPAg"
      },
      "execution_count": 22,
      "outputs": []
    },
    {
      "cell_type": "code",
      "source": [
        "text = text.encode('ascii','ignore').lower() #Lowercasing each word"
      ],
      "metadata": {
        "id": "qLIMCuU9Xap3"
      },
      "execution_count": 23,
      "outputs": []
    },
    {
      "cell_type": "code",
      "source": [
        "#keywords = re.findall(r\"[a-zA-Z]\\w+\",text)\n",
        "keywords = re.findall(b\"[A-Za-z]\",text)\n",
        "len(keywords) "
      ],
      "metadata": {
        "colab": {
          "base_uri": "https://localhost:8080/"
        },
        "id": "c5KP-NE_Xe1M",
        "outputId": "2a8eb1db-703f-4fe0-c3c1-479b543a271f"
      },
      "execution_count": 31,
      "outputs": [
        {
          "output_type": "execute_result",
          "data": {
            "text/plain": [
              "1434"
            ]
          },
          "metadata": {},
          "execution_count": 31
        }
      ]
    },
    {
      "cell_type": "code",
      "source": [
        "df = pd.DataFrame(list(set(keywords)),columns=['keywords'])"
      ],
      "metadata": {
        "id": "a0vCk7apXh_P"
      },
      "execution_count": 32,
      "outputs": []
    },
    {
      "cell_type": "code",
      "source": [
        "def weightage(word,text,number_of_documents=1):\n",
        "    word_list = re.findall(word,text)\n",
        "    number_of_times_word_appeared =len(word_list)\n",
        "    tf = number_of_times_word_appeared/float(len(text))\n",
        "    idf = np.log((number_of_documents)/float(number_of_times_word_appeared))\n",
        "    tf_idf = tf*idf\n",
        "    return number_of_times_word_appeared,tf,idf ,tf_idf"
      ],
      "metadata": {
        "id": "s6Y36FfQXo-T"
      },
      "execution_count": 33,
      "outputs": []
    },
    {
      "cell_type": "code",
      "source": [
        "df['number_of_times_word_appeared'] = df['keywords'].apply(lambda x: weightage(x,text)[0])\n",
        "df['tf'] = df['keywords'].apply(lambda x: weightage(x,text)[1])\n",
        "df['idf'] = df['keywords'].apply(lambda x: weightage(x,text)[2])\n",
        "df['tf_idf'] = df['keywords'].apply(lambda x: weightage(x,text)[3])"
      ],
      "metadata": {
        "id": "f_XSt5f4Xs-f"
      },
      "execution_count": 34,
      "outputs": []
    },
    {
      "cell_type": "code",
      "source": [
        "df = df.sort_values('tf_idf',ascending=True)\n",
        "df.to_csv('Keywords.csv')\n",
        "df.head(25)"
      ],
      "metadata": {
        "colab": {
          "base_uri": "https://localhost:8080/",
          "height": 833
        },
        "id": "srMLk-HLXwV0",
        "outputId": "0a669482-7724-4cbc-acf5-e4f7806a06a6"
      },
      "execution_count": 35,
      "outputs": [
        {
          "output_type": "execute_result",
          "data": {
            "text/plain": [
              "   keywords  number_of_times_word_appeared        tf       idf    tf_idf\n",
              "2      b'a'                            147  0.076602 -4.990433 -0.382279\n",
              "8      b'e'                            145  0.075560 -4.976734 -0.376043\n",
              "18     b'i'                            132  0.068786 -4.882802 -0.335868\n",
              "7      b't'                            128  0.066701 -4.852030 -0.323637\n",
              "3      b'n'                            125  0.065138 -4.828314 -0.314507\n",
              "0      b's'                            111  0.057843 -4.709530 -0.272412\n",
              "10     b'r'                             89  0.046378 -4.488636 -0.208175\n",
              "6      b'o'                             86  0.044815 -4.454347 -0.199622\n",
              "11     b'd'                             57  0.029703 -4.043051 -0.120091\n",
              "14     b'c'                             54  0.028140 -3.988984 -0.112249\n",
              "20     b'p'                             53  0.027619 -3.970292 -0.109654\n",
              "19     b'm'                             49  0.025534 -3.891820 -0.099374\n",
              "24     b'g'                             45  0.023450 -3.806662 -0.089265\n",
              "1      b'l'                             43  0.022408 -3.761200 -0.084279\n",
              "21     b'h'                             35  0.018239 -3.555348 -0.064845\n",
              "15     b'v'                             25  0.013028 -3.218876 -0.041934\n",
              "13     b'u'                             22  0.011464 -3.091042 -0.035437\n",
              "4      b'y'                             19  0.009901 -2.944439 -0.029153\n",
              "5      b'b'                             17  0.008859 -2.833213 -0.025099\n",
              "9      b'k'                             13  0.006774 -2.564949 -0.017376\n",
              "16     b'f'                             11  0.005732 -2.397895 -0.013745\n",
              "22     b'x'                             10  0.005211 -2.302585 -0.011999\n",
              "25     b'w'                              8  0.004169 -2.079442 -0.008669\n",
              "23     b'j'                              4  0.002084 -1.386294 -0.002890\n",
              "17     b'z'                              3  0.001563 -1.098612 -0.001717"
            ],
            "text/html": [
              "\n",
              "  <div id=\"df-61114ae8-8134-40fb-af19-93037d5ce090\">\n",
              "    <div class=\"colab-df-container\">\n",
              "      <div>\n",
              "<style scoped>\n",
              "    .dataframe tbody tr th:only-of-type {\n",
              "        vertical-align: middle;\n",
              "    }\n",
              "\n",
              "    .dataframe tbody tr th {\n",
              "        vertical-align: top;\n",
              "    }\n",
              "\n",
              "    .dataframe thead th {\n",
              "        text-align: right;\n",
              "    }\n",
              "</style>\n",
              "<table border=\"1\" class=\"dataframe\">\n",
              "  <thead>\n",
              "    <tr style=\"text-align: right;\">\n",
              "      <th></th>\n",
              "      <th>keywords</th>\n",
              "      <th>number_of_times_word_appeared</th>\n",
              "      <th>tf</th>\n",
              "      <th>idf</th>\n",
              "      <th>tf_idf</th>\n",
              "    </tr>\n",
              "  </thead>\n",
              "  <tbody>\n",
              "    <tr>\n",
              "      <th>2</th>\n",
              "      <td>b'a'</td>\n",
              "      <td>147</td>\n",
              "      <td>0.076602</td>\n",
              "      <td>-4.990433</td>\n",
              "      <td>-0.382279</td>\n",
              "    </tr>\n",
              "    <tr>\n",
              "      <th>8</th>\n",
              "      <td>b'e'</td>\n",
              "      <td>145</td>\n",
              "      <td>0.075560</td>\n",
              "      <td>-4.976734</td>\n",
              "      <td>-0.376043</td>\n",
              "    </tr>\n",
              "    <tr>\n",
              "      <th>18</th>\n",
              "      <td>b'i'</td>\n",
              "      <td>132</td>\n",
              "      <td>0.068786</td>\n",
              "      <td>-4.882802</td>\n",
              "      <td>-0.335868</td>\n",
              "    </tr>\n",
              "    <tr>\n",
              "      <th>7</th>\n",
              "      <td>b't'</td>\n",
              "      <td>128</td>\n",
              "      <td>0.066701</td>\n",
              "      <td>-4.852030</td>\n",
              "      <td>-0.323637</td>\n",
              "    </tr>\n",
              "    <tr>\n",
              "      <th>3</th>\n",
              "      <td>b'n'</td>\n",
              "      <td>125</td>\n",
              "      <td>0.065138</td>\n",
              "      <td>-4.828314</td>\n",
              "      <td>-0.314507</td>\n",
              "    </tr>\n",
              "    <tr>\n",
              "      <th>0</th>\n",
              "      <td>b's'</td>\n",
              "      <td>111</td>\n",
              "      <td>0.057843</td>\n",
              "      <td>-4.709530</td>\n",
              "      <td>-0.272412</td>\n",
              "    </tr>\n",
              "    <tr>\n",
              "      <th>10</th>\n",
              "      <td>b'r'</td>\n",
              "      <td>89</td>\n",
              "      <td>0.046378</td>\n",
              "      <td>-4.488636</td>\n",
              "      <td>-0.208175</td>\n",
              "    </tr>\n",
              "    <tr>\n",
              "      <th>6</th>\n",
              "      <td>b'o'</td>\n",
              "      <td>86</td>\n",
              "      <td>0.044815</td>\n",
              "      <td>-4.454347</td>\n",
              "      <td>-0.199622</td>\n",
              "    </tr>\n",
              "    <tr>\n",
              "      <th>11</th>\n",
              "      <td>b'd'</td>\n",
              "      <td>57</td>\n",
              "      <td>0.029703</td>\n",
              "      <td>-4.043051</td>\n",
              "      <td>-0.120091</td>\n",
              "    </tr>\n",
              "    <tr>\n",
              "      <th>14</th>\n",
              "      <td>b'c'</td>\n",
              "      <td>54</td>\n",
              "      <td>0.028140</td>\n",
              "      <td>-3.988984</td>\n",
              "      <td>-0.112249</td>\n",
              "    </tr>\n",
              "    <tr>\n",
              "      <th>20</th>\n",
              "      <td>b'p'</td>\n",
              "      <td>53</td>\n",
              "      <td>0.027619</td>\n",
              "      <td>-3.970292</td>\n",
              "      <td>-0.109654</td>\n",
              "    </tr>\n",
              "    <tr>\n",
              "      <th>19</th>\n",
              "      <td>b'm'</td>\n",
              "      <td>49</td>\n",
              "      <td>0.025534</td>\n",
              "      <td>-3.891820</td>\n",
              "      <td>-0.099374</td>\n",
              "    </tr>\n",
              "    <tr>\n",
              "      <th>24</th>\n",
              "      <td>b'g'</td>\n",
              "      <td>45</td>\n",
              "      <td>0.023450</td>\n",
              "      <td>-3.806662</td>\n",
              "      <td>-0.089265</td>\n",
              "    </tr>\n",
              "    <tr>\n",
              "      <th>1</th>\n",
              "      <td>b'l'</td>\n",
              "      <td>43</td>\n",
              "      <td>0.022408</td>\n",
              "      <td>-3.761200</td>\n",
              "      <td>-0.084279</td>\n",
              "    </tr>\n",
              "    <tr>\n",
              "      <th>21</th>\n",
              "      <td>b'h'</td>\n",
              "      <td>35</td>\n",
              "      <td>0.018239</td>\n",
              "      <td>-3.555348</td>\n",
              "      <td>-0.064845</td>\n",
              "    </tr>\n",
              "    <tr>\n",
              "      <th>15</th>\n",
              "      <td>b'v'</td>\n",
              "      <td>25</td>\n",
              "      <td>0.013028</td>\n",
              "      <td>-3.218876</td>\n",
              "      <td>-0.041934</td>\n",
              "    </tr>\n",
              "    <tr>\n",
              "      <th>13</th>\n",
              "      <td>b'u'</td>\n",
              "      <td>22</td>\n",
              "      <td>0.011464</td>\n",
              "      <td>-3.091042</td>\n",
              "      <td>-0.035437</td>\n",
              "    </tr>\n",
              "    <tr>\n",
              "      <th>4</th>\n",
              "      <td>b'y'</td>\n",
              "      <td>19</td>\n",
              "      <td>0.009901</td>\n",
              "      <td>-2.944439</td>\n",
              "      <td>-0.029153</td>\n",
              "    </tr>\n",
              "    <tr>\n",
              "      <th>5</th>\n",
              "      <td>b'b'</td>\n",
              "      <td>17</td>\n",
              "      <td>0.008859</td>\n",
              "      <td>-2.833213</td>\n",
              "      <td>-0.025099</td>\n",
              "    </tr>\n",
              "    <tr>\n",
              "      <th>9</th>\n",
              "      <td>b'k'</td>\n",
              "      <td>13</td>\n",
              "      <td>0.006774</td>\n",
              "      <td>-2.564949</td>\n",
              "      <td>-0.017376</td>\n",
              "    </tr>\n",
              "    <tr>\n",
              "      <th>16</th>\n",
              "      <td>b'f'</td>\n",
              "      <td>11</td>\n",
              "      <td>0.005732</td>\n",
              "      <td>-2.397895</td>\n",
              "      <td>-0.013745</td>\n",
              "    </tr>\n",
              "    <tr>\n",
              "      <th>22</th>\n",
              "      <td>b'x'</td>\n",
              "      <td>10</td>\n",
              "      <td>0.005211</td>\n",
              "      <td>-2.302585</td>\n",
              "      <td>-0.011999</td>\n",
              "    </tr>\n",
              "    <tr>\n",
              "      <th>25</th>\n",
              "      <td>b'w'</td>\n",
              "      <td>8</td>\n",
              "      <td>0.004169</td>\n",
              "      <td>-2.079442</td>\n",
              "      <td>-0.008669</td>\n",
              "    </tr>\n",
              "    <tr>\n",
              "      <th>23</th>\n",
              "      <td>b'j'</td>\n",
              "      <td>4</td>\n",
              "      <td>0.002084</td>\n",
              "      <td>-1.386294</td>\n",
              "      <td>-0.002890</td>\n",
              "    </tr>\n",
              "    <tr>\n",
              "      <th>17</th>\n",
              "      <td>b'z'</td>\n",
              "      <td>3</td>\n",
              "      <td>0.001563</td>\n",
              "      <td>-1.098612</td>\n",
              "      <td>-0.001717</td>\n",
              "    </tr>\n",
              "  </tbody>\n",
              "</table>\n",
              "</div>\n",
              "      <button class=\"colab-df-convert\" onclick=\"convertToInteractive('df-61114ae8-8134-40fb-af19-93037d5ce090')\"\n",
              "              title=\"Convert this dataframe to an interactive table.\"\n",
              "              style=\"display:none;\">\n",
              "        \n",
              "  <svg xmlns=\"http://www.w3.org/2000/svg\" height=\"24px\"viewBox=\"0 0 24 24\"\n",
              "       width=\"24px\">\n",
              "    <path d=\"M0 0h24v24H0V0z\" fill=\"none\"/>\n",
              "    <path d=\"M18.56 5.44l.94 2.06.94-2.06 2.06-.94-2.06-.94-.94-2.06-.94 2.06-2.06.94zm-11 1L8.5 8.5l.94-2.06 2.06-.94-2.06-.94L8.5 2.5l-.94 2.06-2.06.94zm10 10l.94 2.06.94-2.06 2.06-.94-2.06-.94-.94-2.06-.94 2.06-2.06.94z\"/><path d=\"M17.41 7.96l-1.37-1.37c-.4-.4-.92-.59-1.43-.59-.52 0-1.04.2-1.43.59L10.3 9.45l-7.72 7.72c-.78.78-.78 2.05 0 2.83L4 21.41c.39.39.9.59 1.41.59.51 0 1.02-.2 1.41-.59l7.78-7.78 2.81-2.81c.8-.78.8-2.07 0-2.86zM5.41 20L4 18.59l7.72-7.72 1.47 1.35L5.41 20z\"/>\n",
              "  </svg>\n",
              "      </button>\n",
              "      \n",
              "  <style>\n",
              "    .colab-df-container {\n",
              "      display:flex;\n",
              "      flex-wrap:wrap;\n",
              "      gap: 12px;\n",
              "    }\n",
              "\n",
              "    .colab-df-convert {\n",
              "      background-color: #E8F0FE;\n",
              "      border: none;\n",
              "      border-radius: 50%;\n",
              "      cursor: pointer;\n",
              "      display: none;\n",
              "      fill: #1967D2;\n",
              "      height: 32px;\n",
              "      padding: 0 0 0 0;\n",
              "      width: 32px;\n",
              "    }\n",
              "\n",
              "    .colab-df-convert:hover {\n",
              "      background-color: #E2EBFA;\n",
              "      box-shadow: 0px 1px 2px rgba(60, 64, 67, 0.3), 0px 1px 3px 1px rgba(60, 64, 67, 0.15);\n",
              "      fill: #174EA6;\n",
              "    }\n",
              "\n",
              "    [theme=dark] .colab-df-convert {\n",
              "      background-color: #3B4455;\n",
              "      fill: #D2E3FC;\n",
              "    }\n",
              "\n",
              "    [theme=dark] .colab-df-convert:hover {\n",
              "      background-color: #434B5C;\n",
              "      box-shadow: 0px 1px 3px 1px rgba(0, 0, 0, 0.15);\n",
              "      filter: drop-shadow(0px 1px 2px rgba(0, 0, 0, 0.3));\n",
              "      fill: #FFFFFF;\n",
              "    }\n",
              "  </style>\n",
              "\n",
              "      <script>\n",
              "        const buttonEl =\n",
              "          document.querySelector('#df-61114ae8-8134-40fb-af19-93037d5ce090 button.colab-df-convert');\n",
              "        buttonEl.style.display =\n",
              "          google.colab.kernel.accessAllowed ? 'block' : 'none';\n",
              "\n",
              "        async function convertToInteractive(key) {\n",
              "          const element = document.querySelector('#df-61114ae8-8134-40fb-af19-93037d5ce090');\n",
              "          const dataTable =\n",
              "            await google.colab.kernel.invokeFunction('convertToInteractive',\n",
              "                                                     [key], {});\n",
              "          if (!dataTable) return;\n",
              "\n",
              "          const docLinkHtml = 'Like what you see? Visit the ' +\n",
              "            '<a target=\"_blank\" href=https://colab.research.google.com/notebooks/data_table.ipynb>data table notebook</a>'\n",
              "            + ' to learn more about interactive tables.';\n",
              "          element.innerHTML = '';\n",
              "          dataTable['output_type'] = 'display_data';\n",
              "          await google.colab.output.renderOutput(dataTable, element);\n",
              "          const docLink = document.createElement('div');\n",
              "          docLink.innerHTML = docLinkHtml;\n",
              "          element.appendChild(docLink);\n",
              "        }\n",
              "      </script>\n",
              "    </div>\n",
              "  </div>\n",
              "  "
            ]
          },
          "metadata": {},
          "execution_count": 35
        }
      ]
    },
    {
      "cell_type": "code",
      "source": [],
      "metadata": {
        "id": "ddpcTPvnX0El"
      },
      "execution_count": null,
      "outputs": []
    }
  ]
}